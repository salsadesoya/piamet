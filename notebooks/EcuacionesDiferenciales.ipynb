{
 "cells": [
  {
   "cell_type": "markdown",
   "metadata": {
    "tags": []
   },
   "source": [
    "# Ecuaciones Diferenciales Ordinarias\n",
    "\n",
    "## ¿Qué son?\n",
    "Son ecuaciones compuestas por: una función desconocida y derivadas.\n",
    "La clasificación de las mismas en los problemas depende:\n",
    "• Condiciones iniciales. Los problemas con condiciones iniciales estos dependen \n",
    "del tiempo, es decir, sus condiciones iniciales se basan en el tiempo inicial para \n",
    "la solución.\n",
    "• Condiciones en la frontera. Son diferentes los métodos numéricos en forma \n",
    "significativa de los que se usa para problemas con condiciones iniciales.\n",
    "## ¿Cuál es su solución?"
   ]
  },
  {
   "cell_type": "code",
   "execution_count": 1,
   "metadata": {
    "jupyter": {
     "source_hidden": true
    },
    "tags": []
   },
   "outputs": [
    {
     "data": {
      "text/plain": [
       "{'divide': 'warn', 'over': 'warn', 'under': 'ignore', 'invalid': 'warn'}"
      ]
     },
     "execution_count": 1,
     "metadata": {},
     "output_type": "execute_result"
    }
   ],
   "source": [
    "%matplotlib widget\n",
    "import numpy as np\n",
    "from numpy.linalg import norm\n",
    "import sympy as sp\n",
    "import matplotlib.pyplot as plt\n",
    "from scipy.optimize import fsolve\n",
    "from mpmath import findroot\n",
    "from IPython.display import Math,display\n",
    "sp.init_printing(use_latex='mathjax')\n",
    "import warnings\n",
    "import math\n",
    "import ipywidgets as widgets\n",
    "#warnings.filterwarnings('error')\n",
    "np.seterr(all='print')\n"
   ]
  },
  {
   "cell_type": "markdown",
   "metadata": {
    "tags": []
   },
   "source": [
    "## Euler hacia Adelante\n",
    "\n",
    "### ¿Cómo funciona?\n",
    "Con la primera derivada se obtiene en forma directa la estimación de una pendiente.\n",
    "Es decir divide el intervalo de x= 0 en n subintervalos de ancho h.\n",
    "Ecuación: \n",
    "yn+1 = yn + h f (yn, tn) \n",
    "t = 0, siempre es “0” pues parte del origen.\n",
    " \n",
    "- Este se obtiene por diferencias hacia adelante y así rescribiendo la aproximación.\n",
    "- Se calcula yn+1 en forma recursiva.\n",
    "### ¿Cómo lo puedo usar?"
   ]
  },
  {
   "cell_type": "markdown",
   "metadata": {
    "jupyter": {
     "source_hidden": true
    },
    "tags": []
   },
   "source": [
    "x, y, t = sp.symbols(\"x y t\")\n",
    "fun = input('Ingrese la ecuación despejada para y\\': ')\n",
    "fun_sim= sp.sympify(fun)\n",
    "display(Math(sp.latex(fun_sim)))\n",
    "y0 = float(input(\"Ingrese el valor de y0: \"))\n",
    "h = float(input(\"Ingrese el valor de h: \"))\n",
    "t0 = 0\n",
    "fun_np = sp.lambdify([y,t], fun_sim, 'numpy')\n",
    "resultado_y1 = fun_np(y0,t0)\n",
    "y1 = y0 + (h * resultado_y1)\n",
    "print(\"El valor de y1 es: \", y1)\n",
    "t1 = t0 + h\n",
    "resultado_y2 = fun_np(y1,t1)\n",
    "y2 = y1 + (h * resultado_y2)\n",
    "print(\"El valor de y2 es: \",y2)"
   ]
  },
  {
   "cell_type": "markdown",
   "metadata": {},
   "source": [
    "## Euler hacia Atrás\n",
    "Se basa en la aproximación de diferencias hacia atrás, es tan preciso como el método \n",
    "anterior.\n",
    "Tiene como ventaja que es estable para problemas rígidos y proporciona una solución \n",
    "positiva si también esta anterior es exacta.\n",
    "El intervalo lo divide n subintervalos de ancho h.\n",
    "Ecuación: \n",
    "yn+1 = yn + h f (yn+1, tn+1) \n",
    "t=0, siempre es “0” pues parte del origen.\n",
    " \n",
    "• Este se obtiene por diferencias hacia atrás y así reescribiendo la aproximación.\n",
    "Se calcula yn+1 en forma recursiva.\n",
    "yn+1 = yn + n hf (tn+1, yn+1) 0 ≤ n ≤N\n",
    "y0 = n h = 0; n = 0, 1, 2,…., N - 1\n",
    "Donde “n h” va a representar una aproximación al valor inicial n.\n",
    "Ejemplo.\n",
    "f(x, y) = x sen (y)"
   ]
  },
  {
   "cell_type": "code",
   "execution_count": null,
   "metadata": {
    "jupyter": {
     "source_hidden": true
    },
    "tags": []
   },
   "outputs": [],
   "source": [
    "x, y, t = sp.symbols(\"x y t\")\n",
    "fun1 = input('Ingrese la ecuación despejada para y\\': ')\n",
    "fun_sim1= sp.sympify(fun1)\n",
    "display(Math(sp.latex(fun_sim1)))\n",
    "y0 = float(input(\"Ingrese el valor de y0: \"))\n",
    "h = float(input(\"Ingrese el valor de h: \"))\n",
    "t0 = 0\n",
    "yn_1 = y0\n",
    "\n",
    "fun_np = sp.lambdify([y,t], fun_sim1, 'numpy')\n",
    "resultado_y1 = fun_np(yn_1,t0)\n",
    "y1 = yn_1 + (h * resultado_y1)\n",
    "print(\"El valor de y1 es: \", y1)\n",
    "t1 = t0 + h\n",
    "resultado_y2 = fun_np(y1,t1)\n",
    "y2 = y1 + (h * resultado_y2)\n",
    "print(\"El valor de y2 es: \",y2)"
   ]
  },
  {
   "cell_type": "markdown",
   "metadata": {
    "tags": []
   },
   "source": [
    "## Euler Modificado\n",
    "Características:\n",
    "1. Es más exacto que el método Euler hacia Adelante.\n",
    "2. Su estabilidad es excelente.\n",
    "3. Se obtiene aplicando la regla trapezoidal para integrar\n",
    "\n",
    "yn+1 = yn + h f/2 (yn, tn) + f (yn+1, tn+1)\n",
    "\n",
    "y´1 = y0 + h f/2 (y0, t0) + f (y1, t1)\n"
   ]
  },
  {
   "cell_type": "code",
   "execution_count": null,
   "metadata": {
    "jupyter": {
     "source_hidden": true
    },
    "tags": []
   },
   "outputs": [],
   "source": [
    "x, y, t = sp.symbols(\"x y t\")\n",
    "fun = input('Ingrese la ecuación despejada para y\\': ')\n",
    "fun_sim= sp.sympify(fun)\n",
    "display(Math(sp.latex(fun_sim)))\n",
    "y0 = float(input(\"Ingrese el valor de y0: \"))\n",
    "y1 = float(input(\"Ingrese el valor de y1: \"))\n",
    "h = float(input(\"Ingrese el valor de h: \"))\n",
    "t0 = 0\n",
    "t1 = t0 + h\n",
    "fun_np = sp.lambdify([y,t], fun_sim, 'numpy')\n",
    "resultado_yn = fun_np(y0,t0)\n",
    "resultado_yn1 = fun_np(y1,t1)\n",
    "y1prima = y0 + ((h/2) * (resultado_yn + resultado_yn1))\n",
    "print(\"El valor de y\\'1 es: \", y1prima)\n",
    "t0 = t0 + h\n",
    "t1 = t0 + h\n",
    "y0 = y1\n",
    "y1 = y1prima\n",
    "resultado_yn = fun_np(y0,t0)\n",
    "resultado_yn1 = fun_np(y1,t1)\n",
    "y2prima = y0 + ((h/2) * (resultado_yn + resultado_yn1))\n",
    "print(\"El valor de y\\'2 es: \",y2prima)"
   ]
  },
  {
   "cell_type": "markdown",
   "metadata": {
    "tags": []
   },
   "source": [
    "## Runge Kutta $2^o$ orden\n",
    "Se tienen dos pasos de iteración.\n",
    "k1 = h f (yn, tn)\n",
    "k2 = h f (yn+ k1, tn+ h)\n",
    "yn+1 = yn + ½ (k1 + k2)\n",
    "k.- son las relaciones de recurrencia.\n",
    "Entonces:\n",
    "k1 aparece en la ecuación de k2\n",
    "k2 en la ecuación de k3\n",
    "Siendo, cada k una evolución funcional por lo cual los métodos Runge – Kutta son \n",
    "más eficientes debido a esta recurrencia."
   ]
  },
  {
   "cell_type": "code",
   "execution_count": 1,
   "metadata": {
    "jupyter": {
     "source_hidden": true
    },
    "tags": []
   },
   "outputs": [
    {
     "ename": "NameError",
     "evalue": "name 'sp' is not defined",
     "output_type": "error",
     "traceback": [
      "\u001b[0;31m---------------------------------------------------------------------------\u001b[0m",
      "\u001b[0;31mNameError\u001b[0m                                 Traceback (most recent call last)",
      "\u001b[0;32m/tmp/ipykernel_204/2511777713.py\u001b[0m in \u001b[0;36m<module>\u001b[0;34m\u001b[0m\n\u001b[0;32m----> 1\u001b[0;31m \u001b[0mx\u001b[0m\u001b[0;34m,\u001b[0m \u001b[0my\u001b[0m\u001b[0;34m,\u001b[0m \u001b[0mt\u001b[0m \u001b[0;34m=\u001b[0m \u001b[0msp\u001b[0m\u001b[0;34m.\u001b[0m\u001b[0msymbols\u001b[0m\u001b[0;34m(\u001b[0m\u001b[0;34m\"x y t\"\u001b[0m\u001b[0;34m)\u001b[0m\u001b[0;34m\u001b[0m\u001b[0;34m\u001b[0m\u001b[0m\n\u001b[0m\u001b[1;32m      2\u001b[0m \u001b[0mfun\u001b[0m \u001b[0;34m=\u001b[0m \u001b[0minput\u001b[0m\u001b[0;34m(\u001b[0m\u001b[0;34m'Ingrese la ecuación despejada para y\\': '\u001b[0m\u001b[0;34m)\u001b[0m\u001b[0;34m\u001b[0m\u001b[0;34m\u001b[0m\u001b[0m\n\u001b[1;32m      3\u001b[0m \u001b[0mfun_sim\u001b[0m\u001b[0;34m=\u001b[0m \u001b[0msp\u001b[0m\u001b[0;34m.\u001b[0m\u001b[0msympify\u001b[0m\u001b[0;34m(\u001b[0m\u001b[0mfun\u001b[0m\u001b[0;34m)\u001b[0m\u001b[0;34m\u001b[0m\u001b[0;34m\u001b[0m\u001b[0m\n\u001b[1;32m      4\u001b[0m \u001b[0mdisplay\u001b[0m\u001b[0;34m(\u001b[0m\u001b[0mMath\u001b[0m\u001b[0;34m(\u001b[0m\u001b[0msp\u001b[0m\u001b[0;34m.\u001b[0m\u001b[0mlatex\u001b[0m\u001b[0;34m(\u001b[0m\u001b[0mfun_sim\u001b[0m\u001b[0;34m)\u001b[0m\u001b[0;34m)\u001b[0m\u001b[0;34m)\u001b[0m\u001b[0;34m\u001b[0m\u001b[0;34m\u001b[0m\u001b[0m\n\u001b[1;32m      5\u001b[0m \u001b[0my0\u001b[0m \u001b[0;34m=\u001b[0m \u001b[0mfloat\u001b[0m\u001b[0;34m(\u001b[0m\u001b[0minput\u001b[0m\u001b[0;34m(\u001b[0m\u001b[0;34m\"Ingrese el valor de y0: \"\u001b[0m\u001b[0;34m)\u001b[0m\u001b[0;34m)\u001b[0m\u001b[0;34m\u001b[0m\u001b[0;34m\u001b[0m\u001b[0m\n",
      "\u001b[0;31mNameError\u001b[0m: name 'sp' is not defined"
     ]
    }
   ],
   "source": [
    "x, y, t = sp.symbols(\"x y t\")\n",
    "fun = input('Ingrese la ecuación despejada para y\\': ')\n",
    "fun_sim= sp.sympify(fun)\n",
    "display(Math(sp.latex(fun_sim)))\n",
    "y0 = float(input(\"Ingrese el valor de y0: \"))\n",
    "h = float(input(\"Ingrese el valor de h: \"))\n",
    "t0 = 0\n",
    "fun_np = sp.lambdify([y,t], fun_sim, 'numpy')\n",
    "k1 = h * (fun_np(y0,t0))\n",
    "yn_k1 = y0 + k1\n",
    "tn_h = t0 + h\n",
    "print(yn_k1)\n",
    "print(tn_h)\n",
    "resultado_f = fun_np(yn_k1, tn_h)\n",
    "print(resultado_f)\n",
    "k2 = h * resultado_f\n",
    "y_n1 = y0 + (0.5*(k1+k2))\n",
    "print(\"k1 para y1 : \",k1)\n",
    "print(\"k2 para y1: \",k2)\n",
    "print('El valor de y1 es: ',y_n1)\n",
    "y0 = y_n1\n",
    "t0 = t0 + h\n",
    "k1 = h * (fun_np(y0,t0))\n",
    "yn_k1 = y0 + k1\n",
    "tn_h = t0 + h\n",
    "k2 = h * (fun_np(yn_k1, tn_h))\n",
    "y_n2 = y0 + (0.5*(k1+k2))\n",
    "print(\"k1 para y2 : \",k1)\n",
    "print(\"k2 para y2: \",k2)\n",
    "print('El valor de y2 es: ',y_n1)"
   ]
  },
  {
   "cell_type": "markdown",
   "metadata": {
    "tags": []
   },
   "source": [
    "## Runge Kutta de $3^{er}$ orden\n",
    "k1 = h f (yn, tn)\n",
    "\n",
    "k2 = h f (yn+ k1/2, tn+ h/2)\n",
    "\n",
    "k3 = h f (yn - k1 + 2 k2 , tn+ h) \n",
    "\n",
    "yn+1 = yn +1/6 (k1 + 4k2 + k3)"
   ]
  },
  {
   "cell_type": "markdown",
   "metadata": {
    "jupyter": {
     "source_hidden": true
    },
    "tags": []
   },
   "source": [
    "x, y, t = sp.symbols(\"x y t\")\n",
    "fun = input('Ingrese la ecuación despejada para y\\': ')\n",
    "fun_sim= sp.sympify(fun)\n",
    "display(Math(sp.latex(fun_sim)))\n",
    "y0 = float(input(\"Ingrese el valor de y0: \"))\n",
    "h = float(input(\"Ingrese el valor de h: \"))\n",
    "t0 = 0\n",
    "fun_np = sp.lambdify([y,t], fun_sim, 'numpy')\n",
    "k1 = h * (fun_np(y0,t0))\n",
    "yn_k1 = y0 + (k1/2)\n",
    "tn_h2 = t0 + (h/2)\n",
    "resultado_f2 = fun_np(yn_k1, tn_h2)\n",
    "k2 = h * resultado_f2\n",
    "yn_k1_2k2 = y0 -k1 + (2*k2)\n",
    "tn_h = t0 + h\n",
    "resultado_f3 = fun_np(yn_k1_2k2, tn_h)\n",
    "k3 = h * resultado_f3\n",
    "y_n1 = y0 +((1/6)  * (k1 + (4*k2) + k3))\n",
    "print(\"k1 para y1 : \",k1)\n",
    "print(\"k2 para y1: \",k2)\n",
    "print(\"k3 para y1: \",k3)\n",
    "print('El valor de y1 es: ',y_n1)\n",
    "y0 = y_n1\n",
    "t0 = t0 + h\n",
    "k1 = h * (fun_np(y0,t0))\n",
    "yn_k1 = y0 + (k1/2)\n",
    "tn_h2 = t0 + (h/2)\n",
    "resultado_f2 = fun_np(yn_k1, tn_h2)\n",
    "k2 = h * resultado_f2\n",
    "yn_k1_2k2 = y0 -k1 + (2*k2)\n",
    "tn_h = t0 + h\n",
    "resultado_f3 = fun_np(yn_k1_2k2, tn_h)\n",
    "k3 = h * resultado_f3\n",
    "y_n2 = y0 +((1/6)  * (k1 + (4*k2) + k3))\n",
    "print(\"k1 para y2 : \",k1)\n",
    "print(\"k2 para y2: \",k2)\n",
    "print(\"k3 para y2: \",k3)\n",
    "print('El valor de y2 es: ',y_n2)"
   ]
  },
  {
   "cell_type": "markdown",
   "metadata": {},
   "source": [
    "## Runge Kutta de $4^{to}$ orden por $\\dfrac{1}{3}$ de Simpson\n",
    "k1 = h f (yn, tn)\n",
    "\n",
    "k2 = h f (yn+ k1/2, tn+ h/2)\n",
    "\n",
    "k3 = h f (yn + k2 /2, tn+ h/2)\n",
    "\n",
    "k4 = h f (yn + k3, tn+ h)\n",
    "\n",
    "yn+1 = yn +1/6 (k1 + 2k2 + 2k3 + k4)"
   ]
  },
  {
   "cell_type": "code",
   "execution_count": null,
   "metadata": {
    "jupyter": {
     "source_hidden": true
    },
    "tags": []
   },
   "outputs": [],
   "source": [
    "x, y, t = sp.symbols(\"x y t\")\n",
    "fun = input('Ingrese la ecuación despejada para y\\': ')\n",
    "fun_sim= sp.sympify(fun)\n",
    "display(Math(sp.latex(fun_sim)))\n",
    "y0 = float(input(\"Ingrese el valor de y0: \"))\n",
    "h = float(input(\"Ingrese el valor de h: \"))\n",
    "t0 = 0\n",
    "fun_np = sp.lambdify([y,t], fun_sim, 'numpy')\n",
    "k1 = h * (fun_np(y0,t0))\n",
    "yn_k2 = y0 + (k1/2)\n",
    "tn_h2 = t0 + (h/2)\n",
    "resultado_f2 = fun_np(yn_k2, tn_h2)\n",
    "k2 = h * resultado_f2\n",
    "yn_k3 = y0 +(k2/2)\n",
    "resultado_f3 = fun_np(yn_k3, tn_h2)\n",
    "k3 = h * resultado_f3\n",
    "yn_k4 = y0 + k3\n",
    "tn_h = t0 + h\n",
    "resultado_f4 = fun_np(yn_k4, tn_h)\n",
    "k4 = h * resultado_f4\n",
    "y_n1 = y0 +((1/6)  * (k1 + (2*k2) + (2*k3) + k4))\n",
    "print(\"k1 para y1 : \",k1)\n",
    "print(\"k2 para y1: \",k2)\n",
    "print(\"k3 para y1: \",k3)\n",
    "print(\"k4 para y1: \",k4)\n",
    "print('El valor de y1 es: ',y_n1)\n",
    "y0 = y_n1\n",
    "t0 = t0 + h\n",
    "k1 = h * (fun_np(y0,t0))\n",
    "yn_k2 = y0 + (k1/2)\n",
    "tn_h2 = t0 + (h/2)\n",
    "resultado_f2 = fun_np(yn_k2, tn_h2)\n",
    "k2 = h * resultado_f2\n",
    "yn_k3 = y0 +(k2/2)\n",
    "resultado_f3 = fun_np(yn_k3, tn_h2)\n",
    "k3 = h * resultado_f3\n",
    "yn_k4 = y0 + k3\n",
    "tn_h = t0 + h\n",
    "resultado_f4 = fun_np(yn_k4, tn_h)\n",
    "k4 = h * resultado_f4\n",
    "y_n2 = y0 +((1/6)  * (k1 + (2*k2) + (2*k3) + k4))\n",
    "print(\"k1 para y2 : \",k1)\n",
    "print(\"k2 para y2: \",k2)\n",
    "print(\"k3 para y2: \",k3)\n",
    "print(\"k4 para y2: \",k4)\n",
    "print('El valor de y2 es: ',y_n2)"
   ]
  },
  {
   "cell_type": "markdown",
   "metadata": {
    "tags": []
   },
   "source": [
    "## Runge Kutta de $4^{to}$ orden por $\\dfrac{3}{8}$ de Simpson\n",
    "k1 = h f (yn, tn)\n",
    "\n",
    "k2 = h f (yn+ k1/3, tn+ h/3)\n",
    "\n",
    "k3 = h f (yn + k1 /3 + k2/3, tn+ 2/3h)\n",
    "\n",
    "k4 = h f (yn + k1- k2 + k3, tn+ h)\n",
    "\n",
    "yn+1 = yn +1/8 (k1 + 3k2 + 3k3 + k4)"
   ]
  },
  {
   "cell_type": "code",
   "execution_count": null,
   "metadata": {
    "jupyter": {
     "source_hidden": true
    },
    "tags": []
   },
   "outputs": [],
   "source": [
    "x, y, t = sp.symbols(\"x y t\")\n",
    "fun = input('Ingrese la ecuación despejada para y\\': ')\n",
    "fun_sim= sp.sympify(fun)\n",
    "display(Math(sp.latex(fun_sim)))\n",
    "y0 = float(input(\"Ingrese el valor de y0: \"))\n",
    "h = float(input(\"Ingrese el valor de h: \"))\n",
    "t0 = 0\n",
    "fun_np = sp.lambdify([y,t], fun_sim, 'numpy')\n",
    "k1 = h * (fun_np(y0,t0))\n",
    "yn_k2 = y0 + (k1/3)\n",
    "tn_h3 = t0 + (h/3)\n",
    "resultado_f2 = fun_np(yn_k2, tn_h3)\n",
    "k2 = h * resultado_f2\n",
    "yn_k3 = y0 +(k1/3) + (k2/3)\n",
    "tn_23h = (2/3) * h\n",
    "resultado_f3 = fun_np(yn_k3, tn_23h)\n",
    "k3 = h * resultado_f3\n",
    "yn_k4 = y0 + k1-k2+k3\n",
    "tn_h = t0 + h\n",
    "resultado_f4 = fun_np(yn_k4, tn_h)\n",
    "k4 = h * resultado_f4\n",
    "y_n1 = y0 +((1/8)  * (k1 + (3*k2) + (3*k3) + k4))\n",
    "print(\"k1 para y1 : \",k1)\n",
    "print(\"k2 para y1: \",k2)\n",
    "print(\"k3 para y1: \",k3)\n",
    "print(\"k4 para y1: \",k4)\n",
    "print('El valor de y1 es: ',y_n1)\n",
    "y0 = y_n1\n",
    "t0 = t0 + h\n",
    "k1 = h * (fun_np(y0,t0))\n",
    "yn_k2 = y0 + (k1/3)\n",
    "tn_h3 = t0 + (h/3)\n",
    "resultado_f2 = fun_np(yn_k2, tn_h3)\n",
    "k2 = h * resultado_f2\n",
    "yn_k3 = y0 +(k1/3) + (k2/3)\n",
    "tn_23h = (2/3) * h\n",
    "resultado_f3 = fun_np(yn_k3, tn_23h)\n",
    "k3 = h * resultado_f3\n",
    "yn_k4 = y0 + k1-k2+k3\n",
    "tn_h = t0 + h\n",
    "resultado_f4 = fun_np(yn_k4, tn_h)\n",
    "k4 = h * resultado_f4\n",
    "y_n2 = y0 +((1/8)  * (k1 + (3*k2) + (3*k3) + k4))\n",
    "print(\"k1 para y2 : \",k1)\n",
    "print(\"k2 para y2: \",k2)\n",
    "print(\"k3 para y2: \",k3)\n",
    "print(\"k4 para y2: \",k4)\n",
    "print('El valor de y2 es: ',y_n2)"
   ]
  },
  {
   "cell_type": "markdown",
   "metadata": {},
   "source": [
    "## Runge Kutta de Orden superior\n",
    "La mayor exactitud se ve afectada por un excesivo trabajo computacional así como \n",
    "de complejidad.\n",
    "k1 = h Vn\n",
    "\n",
    "m1 = h [± a Vn ± b Un, qn]\n",
    "\n",
    "k2 = h (Vn + m1)\n",
    "\n",
    "m2 = h [± a (Vn + m1) ± b (Un + k1), qn+ h]\n",
    "\n",
    "yn+1 = yn + ½ (k1 + k2)\n",
    "\n",
    "y´n+1 = y´n + ½ (m1 + m2)\n",
    "\n",
    "Vn = y´ Un = y qn = t\n",
    "\n",
    "\n",
    "Para ingresar y', hay que usar v en lugar de y'"
   ]
  },
  {
   "cell_type": "code",
   "execution_count": null,
   "metadata": {
    "jupyter": {
     "source_hidden": true
    },
    "tags": []
   },
   "outputs": [],
   "source": [
    "v, x, y, t = sp.symbols(\"v x y t\")\n",
    "fun = input('Ingrese la ecuación despejada para y\\'\\': ')\n",
    "fun_sim= sp.sympify(fun)\n",
    "display(Math(sp.latex(fun_sim)))\n",
    "coeficientes = fun_sim.as_coefficients_dict()\n",
    "a = coeficientes.get(v)\n",
    "b = coeficientes.get(y)\n",
    "if a is None:\n",
    "    coef_v = fun_sim.coeff(v,1)\n",
    "    coef_v_bueno = coef_v.coeff(t,1)\n",
    "    a = coef_v_bueno\n",
    "if b is None:\n",
    "    coef_y = fun_sim.coeff(y,1)\n",
    "    coef_y_bueno = coef_y.coeff(t,1)\n",
    "    b = coef_y_bueno\n",
    "a = abs(a)\n",
    "b = abs(b)\n",
    "print(a)\n",
    "print(b)\n",
    "y0 = float(input(\"Ingrese el valor de y0: \"))\n",
    "y0prima = float(input(\"Ingrese el valor de y\\'0: \"))\n",
    "h = float(input(\"Ingrese el valor de h: \"))\n",
    "t0 = 0\n",
    "fun_np = sp.lambdify([y,v,t], fun_sim, 'numpy')\n",
    "k1 = h * y0prima\n",
    "m1 = h * (fun_np(y0,y0prima,t0))\n",
    "k2 = h * (y0prima + m1)\n",
    "m2 = h * (a*((y0prima+m1) * (t0 + h)) -b*(y0+k1))\n",
    "y1 = y0 + (0.5 * (k1+k2))\n",
    "y1prima = y0prima + (0.5 * (m1+m2))\n",
    "print('k1 para y1: ',k1)\n",
    "print('k2 para y1: ',k2)\n",
    "print('m1 para y1: ',m1)\n",
    "print('m2 para y1: ',m2)\n",
    "print('y1 es: ',y1)\n",
    "print('y\\'1 es: ', y1prima)\n",
    "y0 = y1\n",
    "y0prima = y1prima\n",
    "t0 = t0 + h\n",
    "k1 = h * y0prima\n",
    "m1 = h * (fun_np(y0,y0prima,t0))\n",
    "k2 = h * (y0prima + m1)\n",
    "m2 = h * (a*((y0prima+m1) * (t0 + h)) -b*(y0+k1))\n",
    "y2 = y0 + (0.5 * (k1+k2))\n",
    "y2prima = y0prima + (0.5 * (m1+m2))\n",
    "print('k1 para y2: ',k1)\n",
    "print('k2 para y2: ',k2)\n",
    "print('m1 para y2: ',m1)\n",
    "print('m2 para y2: ',m2)\n",
    "print('y2 es: ',y2)\n",
    "print('y\\'2 es: ', y2prima)"
   ]
  }
 ],
 "metadata": {
  "kernelspec": {
   "display_name": "Python 3 (ipykernel)",
   "language": "python",
   "name": "python3"
  },
  "language_info": {
   "codemirror_mode": {
    "name": "ipython",
    "version": 3
   },
   "file_extension": ".py",
   "mimetype": "text/x-python",
   "name": "python",
   "nbconvert_exporter": "python",
   "pygments_lexer": "ipython3",
   "version": "3.8.12"
  },
  "toc-autonumbering": true,
  "toc-showcode": true,
  "toc-showmarkdowntxt": false,
  "toc-showtags": false
 },
 "nbformat": 4,
 "nbformat_minor": 4
}
